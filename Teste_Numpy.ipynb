{
 "cells": [
  {
   "cell_type": "markdown",
   "id": "b7dae0ff-c272-4e66-989a-85ea5b01927c",
   "metadata": {
    "tags": []
   },
   "source": [
    "# 🧪 Testes com NumPy em Python\n",
    "\n",
    "Este Script contém um **notebook Jupyter (`.ipynb`)** com exemplos práticos de uso da biblioteca **NumPy**, amplamente utilizada para computação numérica em Python.\n",
    "\n",
    "## 📁 Conteúdo do Script\n",
    "\n",
    "- `teste_numpy.ipynb`: Notebook com testes, exemplos e explorações das principais funcionalidades do NumPy, incluindo:\n",
    "  - Criação e manipulação de arrays\n",
    "  - Operações matemáticas e estatísticas\n",
    "  - Indexação e fatiamento\n",
    "  - Álgebra linear com NumPy\n",
    "  - Funções úteis da biblioteca\n",
    "\n",
    "## 📌 Pré-requisitos\n",
    "\n",
    "Para executar o notebook, você precisará ter os seguintes itens instalados:\n",
    "\n",
    "- Python 3.x\n",
    "- Jupyter Notebook ou JupyterLab ou editor de código execute notebooks\n",
    "- Biblioteca NumPy\n",
    "\n",
    "Você pode instalar os pacotes necessários com o seguinte comando:\n",
    "\n",
    "```bash\n",
    "pip install numpy notebook\n",
    "\n"
   ]
  },
  {
   "cell_type": "code",
   "execution_count": 1,
   "id": "366d8344-cdfb-451c-bdc9-089dc3221f4c",
   "metadata": {
    "tags": []
   },
   "outputs": [],
   "source": [
    "#Importando numpy\n",
    "import numpy as np"
   ]
  },
  {
   "cell_type": "code",
   "execution_count": 2,
   "id": "7987d17b-5966-45a6-b15c-58a2a47b8f48",
   "metadata": {
    "tags": []
   },
   "outputs": [
    {
     "name": "stdout",
     "output_type": "stream",
     "text": [
      "[12 34 26 18 10]\n",
      "<class 'numpy.ndarray'>\n"
     ]
    }
   ],
   "source": [
    "#Criando Matriz unidimensional\n",
    "mt = np.array([12,34,26,18,10])\n",
    "print(mt)\n",
    "print(type(mt))"
   ]
  },
  {
   "cell_type": "code",
   "execution_count": null,
   "id": "6ec1d037-1968-4d04-9904-dd008ab9d8cb",
   "metadata": {},
   "outputs": [],
   "source": [
    "#cria o array com um tipo específico\n",
    "#cria o array como float de 64 bits\n",
    "\n",
    "mtfloat = np.array([1,2,3]), dtype = np.float64)\n",
    "print((mtfloat))\n",
    "print(type(mtlfloat))\n",
    "mtint = np.array([1,2,3]),dtype = np.float64)\n",
    "print(mtint)\n",
    "print(type(mtint))\n"
   ]
  },
  {
   "cell_type": "code",
   "execution_count": null,
   "id": "b321e84f-ca8a-43e8-a2ef-851a38d2d422",
   "metadata": {},
   "outputs": [],
   "source": [
    "#mudar o tipo do array\n",
    "#Podemos transformar tipos de dados de arrays\n",
    "mtnew = np.array([1.4,3.6,-5.1,9.42,4.999999])\n",
    "print(mtnew)\n",
    "\n",
    "#quando transformamos de float para int os valores são truncados\n",
    "mtnewint = mtnew.astype(np.int32)\n",
    "print(mtnewint)"
   ]
  },
  {
   "cell_type": "code",
   "execution_count": null,
   "id": "f6733c92-27b9-4df6-be72-3462010d6209",
   "metadata": {},
   "outputs": [],
   "source": [
    "#podemos fazer o inverso também\n",
    "mt5 = np.array([1,2,3,4])\n",
    "print(mt5)\n",
    "mt6 = mt5.astype(float)\n",
    "print(mt6)\n"
   ]
  },
  {
   "cell_type": "code",
   "execution_count": null,
   "id": "18898e7f-83cb-4dc5-86c5-b1db41da2e3c",
   "metadata": {},
   "outputs": [],
   "source": [
    "#mais de uma dimensão\n",
    "#cria uma matriz bidimensional\n",
    "mt7 = np.array([[7,2,23],[12,27,4],[5,34,23]])\n",
    "print(mt7)\n"
   ]
  },
  {
   "cell_type": "code",
   "execution_count": null,
   "id": "06e82e3f-9830-4c5d-a142-6c15fb129c18",
   "metadata": {},
   "outputs": [],
   "source": [
    "#criar arrays vazios tipificados\n",
    "#empty significa que não são inicializados\n",
    "#não que são vazios.\n",
    "vazio = np.empty([3,2],dtype=int)\n",
    "print(vazio)\n",
    "print(\"---------\")\n",
    "#cria uma matriz 4x3 com valores zero\n",
    "zeros = np.zeros([4,3])\n",
    "print(zeros)\n",
    "print(\"---------\")\n",
    "#com valores igual a um\n",
    "um = np.ones([5,7])\n",
    "print(um)\n",
    "print(\"---------\")\n",
    "#cria matriz quadrada\n",
    "#com diagonal principal com valores 1\n",
    "#e os outros valores zerados\n",
    "diagonal = np.eye(5)\n",
    "print(diagonal)"
   ]
  },
  {
   "cell_type": "code",
   "execution_count": null,
   "id": "ad3aa40b-8f58-4f09-9a49-fe7c14be2728",
   "metadata": {},
   "outputs": [],
   "source": [
    "#valores aleatórios entre zero e um\n",
    "ale = np.random.random((5))\n",
    "print(ale)\n",
    "print(\"---------\")\n",
    "#valores aleatorios distr.normal,\n",
    "#contendo negativos\n",
    "ale2= np.random.randn((5))\n",
    "print(ale2)\n",
    "print(\"---------\")\n",
    "#valores aleatórios 3 x 4\n",
    "ale3 = (10*np.random.random((3,4)))\n",
    "print(ale3)"
   ]
  },
  {
   "cell_type": "code",
   "execution_count": null,
   "id": "893cfccd-3cf1-44de-b1e9-cb33f41b296c",
   "metadata": {},
   "outputs": [],
   "source": [
    "#outra forma de geral aleatórios\n",
    "#uso de semente\n",
    "gnr = np.random.default_rng(1)\n",
    "ale5 = gnr.random(3)\n",
    "print(ale5)\n",
    "\n",
    "#gerar inteiros\n",
    "ale6 = gnr.integers(10,size=(3,4))\n",
    "print(ale6)"
   ]
  },
  {
   "cell_type": "code",
   "execution_count": null,
   "id": "bec00e28-3ac4-471b-9a96-eca10c72b247",
   "metadata": {},
   "outputs": [],
   "source": [
    "#unique remove repetições\n",
    "j = np.array([11,12,13,14,15,16,17,12,13,11,18,19,20])\n",
    "j = np.unique(j)\n",
    "print(j)"
   ]
  },
  {
   "cell_type": "code",
   "execution_count": null,
   "id": "4a98a718-487a-4229-8790-5ba1f63d12cc",
   "metadata": {},
   "outputs": [],
   "source": [
    "#funções específicas\n",
    "#cria a matriz bidimensional k\n",
    "k = np.array([[17,22,43],[27,25,14],[15,24,32]])\n",
    "#mostra a matriz k\n",
    "print(k)\n",
    "#mostra um elemento específico da matriz k\n",
    "print(k[0][1])\n",
    "#mostra o tamanho das dimensões da matriz k\n",
    "print(k.shape)"
   ]
  },
  {
   "cell_type": "code",
   "execution_count": null,
   "id": "2c754be8-5983-4e0a-998c-e22acc4924fa",
   "metadata": {},
   "outputs": [],
   "source": [
    "#Funções matemáticas\n",
    "#mostra o maior valor da matriz k\n",
    "print(k.max())\n",
    "#mostra o menor valor da matriz k\n",
    "print(k.min())\n",
    "#mostra a soma dos valores da matriz k\n",
    "print((k.sum())\n",
    "#mostra o valor da média dos valores da matriz k\n",
    "print(k.mean())\n",
    "#mostra o valor do desvio padrão(standard deviation) dos valores da matriz k\n",
    "print(k.std())"
   ]
  },
  {
   "cell_type": "code",
   "execution_count": null,
   "id": "2c9c496e-58da-4f1e-8182-3bfd993c9669",
   "metadata": {},
   "outputs": [],
   "source": [
    "#funções universais, aplicadas\n",
    "#a todos os elementos\n",
    "\n",
    "#Mostra o valor da raiz quadrada\n",
    "#de todos os elmentos\n",
    "k1 = np.array([1,4,9,16,25,36])\n",
    "print(np.sqrt(k1))\n",
    "#mostra o valor do exponencial\n",
    "#de todos os elementos\n",
    "print(np.exp(k1))"
   ]
  },
  {
   "cell_type": "code",
   "execution_count": null,
   "id": "71d596fe-f5c6-4dea-a06c-33fe6a6185e4",
   "metadata": {},
   "outputs": [],
   "source": [
    "#extração de elementos\n",
    "m = np.arrau([1,2,3,4,5,6])\n",
    "#mostra o elemento da posição 2\n",
    "print(m[1])\n",
    "print(\"----------\")\n",
    "#mostra o array criado\n",
    "#a partir da posição 0, dois elementos\n",
    "print(m[0:2])\n",
    "print(\"----------\")\n",
    "#mostra o array criado a partir\n",
    "#da segunda posição até todo o\n",
    "#restante do array\n",
    "print(m[1:])\n",
    "print(\"----------\")\n",
    "#mostra o array criado a partir da\n",
    "#antepenúltima posição até o final\n",
    "print(m[-3:])\n"
   ]
  },
  {
   "cell_type": "code",
   "execution_count": null,
   "id": "1d3cf5ca-639c-406d-9e9e-be04bb6bde35",
   "metadata": {},
   "outputs": [],
   "source": [
    "#extração de linhas e colunas\n",
    "l = np.array([[4,5],[6,1],[7,4]])\n",
    "print(l)\n",
    "print(\"----------\")\n",
    "#primeira linha, todas as colunas\n",
    "l_linha_1 = l[0,:]\n",
    "print(l_linha_1)\n",
    "print(\"----------\")\n",
    "#segunda linha\n",
    "l_linha_2 = l[1, :]\n",
    "print(l_linha_2)\n",
    "print(\"----------\")\n",
    "#terceira linha\n",
    "l_linha_3 = l[2,:]\n",
    "print(l_linha_3)\n",
    "print(\"----------\")\n",
    "#todas as linhas, primeira coluna\n",
    "l_coluna_1 = l[:,0]\n",
    "print(l_coluna_1)\n",
    "print(\"----------\")\n",
    "#todas as linhas, segunda coluna\n",
    "l_coluna_2 = l[:,1]\n",
    "print(l_coluna_2)"
   ]
  },
  {
   "cell_type": "code",
   "execution_count": null,
   "id": "de73b59e-498d-4bb2-bab4-bc25c6d9d57d",
   "metadata": {},
   "outputs": [],
   "source": [
    "#adição e multiplicação de matrizes\n",
    "n = np.array([[1,2],[3,4]])\n",
    "o = np.array([[1,1],[1,1]])\n",
    "res1 = n+o\n",
    "print(res1)\n",
    "print(\"----------\")\n",
    "res2 = n*o\n",
    "print(res2)\n",
    "print(\"----------\")\n",
    "p = np.array([[1,2],[3,4],[5,6]])\n",
    "q = np.array([[2,1]])\n",
    "print(p+q)"
   ]
  },
  {
   "cell_type": "code",
   "execution_count": null,
   "id": "0f95fd93-880f-46c6-b042-a4fc321e8ea2",
   "metadata": {},
   "outputs": [],
   "source": [
    "# transposição, rearranja um conjunto \n",
    "# de 15 elementos 0 a 14\n",
    "# em 3 linhas e 5 colunas\n",
    "f = np.arrange(15).reshape((3,5))\n",
    "#mostra a matriz transposta\n",
    "#entre linha e coluna\n",
    "print(f)\n",
    "print(\"----------\")\n",
    "s = f.T\n",
    "print(s)"
   ]
  },
  {
   "cell_type": "code",
   "execution_count": null,
   "id": "2e10b924-a334-4c1b-a1de-aea1bbaddd90",
   "metadata": {},
   "outputs": [],
   "source": [
    "#outra forma de fazer, mesmo resultado\n",
    "r = np. arrange(15).reshape((3,5))\n",
    "print(r)\n",
    "print(\"----------\")\n",
    "#rearranja um conjunto de 15 elementos\n",
    "#mostra amatriz transposta entre linha\n",
    "# e coluna\n",
    "s = r.transpose((1,0))\n",
    "print(s)"
   ]
  },
  {
   "cell_type": "code",
   "execution_count": null,
   "id": "99b99014-5a7e-4490-abd0-0902b3cdb7a1",
   "metadata": {},
   "outputs": [],
   "source": [
    "#expressões lógicas usando where\n",
    "#criando matriz com valores aleatórios\n",
    "#positivos e negativos\n",
    "v = np.random.randn(4,4)\n",
    "print(v)\n",
    "#criando matriz com valores booleanos\n",
    "#baseado no array v\n",
    "x = (v>0)\n",
    "print(x)\n",
    "#criando matriz com valores -1 e 1\n",
    "#baseado nos valores do array x\n",
    "z = np.where(x>0,1,-1)\n",
    "print(z)"
   ]
  },
  {
   "cell_type": "code",
   "execution_count": null,
   "id": "7990ac74-7162-48d5-8100-1db91ade991c",
   "metadata": {},
   "outputs": [],
   "source": []
  }
 ],
 "metadata": {
  "kernelspec": {
   "display_name": "Python 3 (ipykernel)",
   "language": "python",
   "name": "python3"
  },
  "language_info": {
   "codemirror_mode": {
    "name": "ipython",
    "version": 3
   },
   "file_extension": ".py",
   "mimetype": "text/x-python",
   "name": "python",
   "nbconvert_exporter": "python",
   "pygments_lexer": "ipython3",
   "version": "3.11.5"
  }
 },
 "nbformat": 4,
 "nbformat_minor": 5
}

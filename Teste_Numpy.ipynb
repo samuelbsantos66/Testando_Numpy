{
 "cells": [
  {
   "cell_type": "code",
   "execution_count": 1,
   "id": "366d8344-cdfb-451c-bdc9-089dc3221f4c",
   "metadata": {
    "tags": []
   },
   "outputs": [],
   "source": [
    "#Importando numpy\n",
    "import numpy as np"
   ]
  },
  {
   "cell_type": "code",
   "execution_count": 2,
   "id": "7987d17b-5966-45a6-b15c-58a2a47b8f48",
   "metadata": {
    "tags": []
   },
   "outputs": [
    {
     "name": "stdout",
     "output_type": "stream",
     "text": [
      "[12 34 26 18 10]\n",
      "<class 'numpy.ndarray'>\n"
     ]
    }
   ],
   "source": [
    "#Criando Matriz unidimensional\n",
    "mt = np.array([12,34,26,18,10])\n",
    "print(mt)\n",
    "print(type(mt))"
   ]
  },
  {
   "cell_type": "code",
   "execution_count": null,
   "id": "6ec1d037-1968-4d04-9904-dd008ab9d8cb",
   "metadata": {},
   "outputs": [],
   "source": [
    "#cria o array com um tipo específico\n",
    "#cria o array como float de 64 bits\n",
    "\n",
    "mtfloat = np.array([1,2,3]), dtype = np.float64)\n",
    "print((mtfloat))\n",
    "print(type(mtlfloat))\n",
    "mtint = np.array([1,2,3]),dtype = np.float64)\n",
    "print(mtint)\n",
    "print(type(mtint))\n"
   ]
  },
  {
   "cell_type": "code",
   "execution_count": null,
   "id": "b321e84f-ca8a-43e8-a2ef-851a38d2d422",
   "metadata": {},
   "outputs": [],
   "source": [
    "#mudar o tipo do array\n",
    "#Podemos transformar tipos de dados de arrays\n",
    "mtnew = np.array([1.4,3.6,-5.1,9.42,4.999999])\n",
    "print(mtnew)\n",
    "\n",
    "#quando transformamos de float para int os valores são truncados\n",
    "mtnewint = mtnew.astype(np.int32)\n",
    "print(mtnewint)"
   ]
  },
  {
   "cell_type": "code",
   "execution_count": null,
   "id": "f6733c92-27b9-4df6-be72-3462010d6209",
   "metadata": {},
   "outputs": [],
   "source": [
    "#podemos fazer o inverso também\n",
    "mt5 = np.array([1,2,3,4])\n",
    "print(mt5)\n",
    "mt6 = mt5.astype(float)\n",
    "print(mt6)\n"
   ]
  },
  {
   "cell_type": "code",
   "execution_count": null,
   "id": "18898e7f-83cb-4dc5-86c5-b1db41da2e3c",
   "metadata": {},
   "outputs": [],
   "source": [
    "#mais de uma dimensão\n",
    "#cria uma matriz bidimensional\n",
    "mt7 = np.array([[7,2,23],[12,27,4],[5,34,23]])\n",
    "print(mt7)\n"
   ]
  },
  {
   "cell_type": "code",
   "execution_count": null,
   "id": "06e82e3f-9830-4c5d-a142-6c15fb129c18",
   "metadata": {},
   "outputs": [],
   "source": [
    "#criar arrays vazios tipificados\n",
    "#empty significa que não são inicializados\n",
    "#não que são vazios.\n",
    "vazio = np.empty([3,2],dtype=int)\n",
    "print(vazio)\n",
    "print(\"---------\")\n",
    "#cria uma matriz 4x3 com valores zero\n",
    "zeros = np.zeros([4,3])\n",
    "print(zeros)\n",
    "print(\"---------\")\n",
    "#com valores igual a um\n",
    "um = np.ones([5,7])\n",
    "print(um)\n",
    "print(\"---------\")\n",
    "#cria matriz quadrada\n",
    "#com diagonal principal com valores 1\n",
    "#e os outros valores zerados\n",
    "diagonal = np.eye(5)\n",
    "print(diagonal)"
   ]
  },
  {
   "cell_type": "code",
   "execution_count": null,
   "id": "ad3aa40b-8f58-4f09-9a49-fe7c14be2728",
   "metadata": {},
   "outputs": [],
   "source": [
    "#valores aleatórios entre zero e um"
   ]
  },
  {
   "cell_type": "code",
   "execution_count": null,
   "id": "893cfccd-3cf1-44de-b1e9-cb33f41b296c",
   "metadata": {},
   "outputs": [],
   "source": [
    "ale = np.random.random((5))\n",
    "print(ale)\n",
    "print(\"---------\")\n",
    "#valores aleatorios distr.normal,\n",
    "#contendo negativos\n",
    "ale2= np.random.randn((5))\n",
    "print(ale2)\n",
    "print(\"---------\")\n",
    "#valores aleatórios 3 x 4\n",
    "ale3 = (10*np.random.random((3,4)))\n",
    "print(ale3)"
   ]
  },
  {
   "cell_type": "code",
   "execution_count": null,
   "id": "bec00e28-3ac4-471b-9a96-eca10c72b247",
   "metadata": {},
   "outputs": [],
   "source": []
  },
  {
   "cell_type": "code",
   "execution_count": null,
   "id": "4a98a718-487a-4229-8790-5ba1f63d12cc",
   "metadata": {},
   "outputs": [],
   "source": []
  },
  {
   "cell_type": "code",
   "execution_count": null,
   "id": "2c754be8-5983-4e0a-998c-e22acc4924fa",
   "metadata": {},
   "outputs": [],
   "source": []
  },
  {
   "cell_type": "code",
   "execution_count": null,
   "id": "2c9c496e-58da-4f1e-8182-3bfd993c9669",
   "metadata": {},
   "outputs": [],
   "source": []
  }
 ],
 "metadata": {
  "kernelspec": {
   "display_name": "Python 3 (ipykernel)",
   "language": "python",
   "name": "python3"
  },
  "language_info": {
   "codemirror_mode": {
    "name": "ipython",
    "version": 3
   },
   "file_extension": ".py",
   "mimetype": "text/x-python",
   "name": "python",
   "nbconvert_exporter": "python",
   "pygments_lexer": "ipython3",
   "version": "3.11.5"
  }
 },
 "nbformat": 4,
 "nbformat_minor": 5
}
